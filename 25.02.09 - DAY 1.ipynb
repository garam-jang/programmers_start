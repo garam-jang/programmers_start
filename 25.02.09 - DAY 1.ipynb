{
 "cells": [
  {
   "cell_type": "markdown",
   "id": "d7139a69-d9cb-4e18-9474-f1ba72dd75f2",
   "metadata": {},
   "source": [
    "## DAY 1"
   ]
  },
  {
   "cell_type": "markdown",
   "id": "d8120de9-e2bd-4787-ab83-df665ea28e18",
   "metadata": {},
   "source": [
    "#### 1. 두 수의 합"
   ]
  },
  {
   "cell_type": "markdown",
   "id": "c98aaa27-0cb4-4fd1-bfef-6f5ba84f4eb3",
   "metadata": {},
   "source": [
    "- 문제 설명: 정수 num1과 num2가 주어질 때, num1과 num2의 합을 return하도록 soltuion 함수를 완성해주세요."
   ]
  },
  {
   "cell_type": "code",
   "execution_count": 4,
   "id": "c56a4366-6dff-48a9-b1cd-a7a64812caa5",
   "metadata": {},
   "outputs": [],
   "source": [
    "def solution(num1, num2):\n",
    "    return num1 + num2"
   ]
  },
  {
   "cell_type": "code",
   "execution_count": 6,
   "id": "950d67cf-e3a9-4de8-84f2-5baffbc3cb1f",
   "metadata": {},
   "outputs": [
    {
     "data": {
      "text/plain": [
       "5"
      ]
     },
     "execution_count": 6,
     "metadata": {},
     "output_type": "execute_result"
    }
   ],
   "source": [
    "solution(2, 3)"
   ]
  },
  {
   "cell_type": "markdown",
   "id": "2ee5fed6-12a0-4b78-8844-c40faeaf72b1",
   "metadata": {},
   "source": [
    "#### 2. 두 수의 차"
   ]
  },
  {
   "cell_type": "markdown",
   "id": "e9bdf058-4708-47fd-9460-35176b427d3c",
   "metadata": {},
   "source": [
    "- 문제 설명: 정수 num1과 num2가 주어질 때, num1에서 num2를 뺀 값을 return하도록 soltuion 함수를 완성해주세요."
   ]
  },
  {
   "cell_type": "code",
   "execution_count": 10,
   "id": "075ccdd8-29e0-4dda-8002-af1b9feeccf1",
   "metadata": {},
   "outputs": [],
   "source": [
    "def solution(num1, num2):\n",
    "    return num1 - num2"
   ]
  },
  {
   "cell_type": "code",
   "execution_count": 12,
   "id": "9d90478b-f760-45b8-8ba1-cdd71c520e89",
   "metadata": {},
   "outputs": [
    {
     "data": {
      "text/plain": [
       "-1"
      ]
     },
     "execution_count": 12,
     "metadata": {},
     "output_type": "execute_result"
    }
   ],
   "source": [
    "solution(2, 3)"
   ]
  },
  {
   "cell_type": "markdown",
   "id": "b893c442-005e-47e5-a3f9-5acff99c2922",
   "metadata": {},
   "source": [
    "#### 3. 두 수의 곱"
   ]
  },
  {
   "cell_type": "markdown",
   "id": "79e1e4a4-2d86-43a9-82f5-e25ccfa6a964",
   "metadata": {},
   "source": [
    "- 문제 설명: 정수 num1, num2가 매개변수 주어집니다. num1과 num2를 곱한 값을 return 하도록 solution 함수를 완성해주세요.\r\n"
   ]
  },
  {
   "cell_type": "code",
   "execution_count": 16,
   "id": "1dac35c5-6f45-4df9-a387-fe77a13474d5",
   "metadata": {},
   "outputs": [],
   "source": [
    "def solution(num1, num2):\n",
    "    return num1 * num2"
   ]
  },
  {
   "cell_type": "code",
   "execution_count": 18,
   "id": "cb2e8f3f-4c9f-4de9-9e43-c51745274177",
   "metadata": {},
   "outputs": [
    {
     "data": {
      "text/plain": [
       "12"
      ]
     },
     "execution_count": 18,
     "metadata": {},
     "output_type": "execute_result"
    }
   ],
   "source": [
    "solution(3, 4)"
   ]
  },
  {
   "cell_type": "markdown",
   "id": "af3e3344-4c44-489e-a0a9-e6b55c9e1e02",
   "metadata": {},
   "source": [
    "#### 4. 몫 구하기"
   ]
  },
  {
   "cell_type": "markdown",
   "id": "db64fa08-be77-4089-9683-f22b30aa65b8",
   "metadata": {},
   "source": [
    "- 문제 설명: 정수 num1, num2가 매개변수로 주어질 때, num1을 num2로 나눈 몫을 return 하도록 solution 함수를 완성해주세요.\r\n"
   ]
  },
  {
   "cell_type": "code",
   "execution_count": 22,
   "id": "0a578e73-075e-46a1-989a-23f4efb7e238",
   "metadata": {},
   "outputs": [],
   "source": [
    "def solution(num1, num2):\n",
    "    return num1 // num2"
   ]
  },
  {
   "cell_type": "code",
   "execution_count": 24,
   "id": "ee892357-a366-4a35-b836-99e80495bfb7",
   "metadata": {},
   "outputs": [
    {
     "data": {
      "text/plain": [
       "2"
      ]
     },
     "execution_count": 24,
     "metadata": {},
     "output_type": "execute_result"
    }
   ],
   "source": [
    "solution(10, 5)"
   ]
  }
 ],
 "metadata": {
  "kernelspec": {
   "display_name": "Python 3 (ipykernel)",
   "language": "python",
   "name": "python3"
  },
  "language_info": {
   "codemirror_mode": {
    "name": "ipython",
    "version": 3
   },
   "file_extension": ".py",
   "mimetype": "text/x-python",
   "name": "python",
   "nbconvert_exporter": "python",
   "pygments_lexer": "ipython3",
   "version": "3.12.4"
  }
 },
 "nbformat": 4,
 "nbformat_minor": 5
}
