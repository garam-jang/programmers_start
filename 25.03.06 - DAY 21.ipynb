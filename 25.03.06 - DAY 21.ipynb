{
 "cells": [
  {
   "cell_type": "markdown",
   "id": "d7139a69-d9cb-4e18-9474-f1ba72dd75f2",
   "metadata": {},
   "source": [
    "## DAY 21"
   ]
  },
  {
   "cell_type": "markdown",
   "id": "d8120de9-e2bd-4787-ab83-df665ea28e18",
   "metadata": {},
   "source": [
    "#### 1. 숨어있는 숫자의 덧셈 (2)"
   ]
  },
  {
   "cell_type": "markdown",
   "id": "c98aaa27-0cb4-4fd1-bfef-6f5ba84f4eb3",
   "metadata": {},
   "source": [
    "- 문제 설명: 문자열 my_string이 매개변수로 주어집니다. my_string은 소문자, 대문자, 자연수로만 구성되어있습니다. my_string안의 자연수들의 합을 return하도록 solution 함수를 완성해주세요."
   ]
  },
  {
   "cell_type": "code",
   "execution_count": 45,
   "id": "c56a4366-6dff-48a9-b1cd-a7a64812caa5",
   "metadata": {},
   "outputs": [],
   "source": [
    "def solution(my_string):\n",
    "    answer = 0\n",
    "    num = '0'\n",
    "    for i in my_string:\n",
    "        if i.isdigit():\n",
    "            num += i\n",
    "        else:\n",
    "            answer += int(num)\n",
    "            num = '0'\n",
    "    answer += int(num)\n",
    "    return answer        "
   ]
  },
  {
   "cell_type": "code",
   "execution_count": 67,
   "id": "58cbecaa-a210-48c5-a14d-1349e11e3711",
   "metadata": {},
   "outputs": [],
   "source": [
    "# 다른 사람의 풀이\n",
    "def solution(my_string):\n",
    "    answer = ''.join(i if i.isdigit() else ' ' for i in my_string)\n",
    "    return sum(int(i) for i in answer.split())"
   ]
  },
  {
   "cell_type": "code",
   "execution_count": 69,
   "id": "950d67cf-e3a9-4de8-84f2-5baffbc3cb1f",
   "metadata": {},
   "outputs": [
    {
     "data": {
      "text/plain": [
       "37"
      ]
     },
     "execution_count": 69,
     "metadata": {},
     "output_type": "execute_result"
    }
   ],
   "source": [
    "solution(\"aAb1B2cC34oOp\")"
   ]
  },
  {
   "cell_type": "code",
   "execution_count": 71,
   "id": "bb4a1d1e-8224-46f8-bc1f-6e61fae252ed",
   "metadata": {},
   "outputs": [
    {
     "data": {
      "text/plain": [
       "133"
      ]
     },
     "execution_count": 71,
     "metadata": {},
     "output_type": "execute_result"
    }
   ],
   "source": [
    "solution(\"1a2b3c4d123Z\")"
   ]
  },
  {
   "cell_type": "markdown",
   "id": "2ee5fed6-12a0-4b78-8844-c40faeaf72b1",
   "metadata": {},
   "source": [
    "#### 2. 안전지대"
   ]
  },
  {
   "cell_type": "markdown",
   "id": "e9bdf058-4708-47fd-9460-35176b427d3c",
   "metadata": {},
   "source": [
    "- 문제 설명: 다음 그림과 같이 지뢰가 있는 지역과 지뢰에 인접한 위, 아래, 좌, 우 대각선 칸을 모두 위험지역으로 분류합니다.\n",
    "![nn](image_1.png)\\\n",
    "지뢰는 2차원 배열 board에 1로 표시되어 있고 board에는 지뢰가 매설 된 지역 1과, 지뢰가 없는 지역 0만 존재합니다.\r\n",
    "지뢰가 매설된 지역의 지도 board가 매개변수로 주어질 때, 안전한 지역의 칸 수를 return하도록 solution 함수를 완성해주세요."
   ]
  },
  {
   "cell_type": "code",
   "execution_count": 145,
   "id": "075ccdd8-29e0-4dda-8002-af1b9feeccf1",
   "metadata": {},
   "outputs": [],
   "source": [
    "def solution(board):\n",
    "    n = len(board)  # 보드의 크기 (n x n 크기)\n",
    "    danger_zone = set()  # 위험 지역을 저장할 집합\n",
    "\n",
    "    # 8방향 이동을 위한 리스트 (상, 하, 좌, 우, 대각선 4개)\n",
    "    dx = [-1, 1, 0, 0, -1, -1, 1, 1]\n",
    "    dy = [0, 0, -1, 1, -1, 1, -1, 1]\n",
    "\n",
    "    # 1️⃣ 지뢰 위치 찾기\n",
    "    for i in range(n):\n",
    "        for j in range(n):\n",
    "            if board[i][j] == 1:  # 지뢰 발견!\n",
    "                danger_zone.add((i, j))  # 지뢰 자체도 위험 지역\n",
    "                # 2️⃣ 지뢰 주변 8방향도 위험 지역으로 추가\n",
    "                for d in range(8):\n",
    "                    ni, nj = i + dx[d], j + dy[d]\n",
    "                    if 0 <= ni < n and 0 <= nj < n:  # 보드 범위를 벗어나지 않게 체크\n",
    "                        danger_zone.add((ni, nj))\n",
    "\n",
    "    # 3️⃣ 안전 지역 개수 세기\n",
    "    safe_count = 0\n",
    "    for i in range(n):\n",
    "        for j in range(n):\n",
    "            if (i, j) not in danger_zone:  # 위험 지역이 아니면 안전한 지역!\n",
    "                safe_count += 1\n",
    "\n",
    "    return safe_count  # 안전한 지역 개수 반환"
   ]
  },
  {
   "cell_type": "code",
   "execution_count": 139,
   "id": "9d90478b-f760-45b8-8ba1-cdd71c520e89",
   "metadata": {},
   "outputs": [
    {
     "data": {
      "text/plain": [
       "16"
      ]
     },
     "execution_count": 139,
     "metadata": {},
     "output_type": "execute_result"
    }
   ],
   "source": [
    "solution([[0, 0, 0, 0, 0], [0, 0, 0, 0, 0], [0, 0, 0, 0, 0], [0, 0, 1, 0, 0], [0, 0, 0, 0, 0]])"
   ]
  },
  {
   "cell_type": "code",
   "execution_count": 141,
   "id": "4f97d520-197e-4977-a4fa-0c072d272ab6",
   "metadata": {},
   "outputs": [
    {
     "data": {
      "text/plain": [
       "13"
      ]
     },
     "execution_count": 141,
     "metadata": {},
     "output_type": "execute_result"
    }
   ],
   "source": [
    "solution([[0, 0, 0, 0, 0], [0, 0, 0, 0, 0], [0, 0, 0, 0, 0], [0, 0, 1, 1, 0], [0, 0, 0, 0, 0]])"
   ]
  },
  {
   "cell_type": "code",
   "execution_count": 143,
   "id": "0e9137c7-7445-4f74-b286-edc9eb87bb5f",
   "metadata": {
    "scrolled": true
   },
   "outputs": [
    {
     "data": {
      "text/plain": [
       "0"
      ]
     },
     "execution_count": 143,
     "metadata": {},
     "output_type": "execute_result"
    }
   ],
   "source": [
    "solution([[1, 1, 1, 1, 1, 1], [1, 1, 1, 1, 1, 1], [1, 1, 1, 1, 1, 1], [1, 1, 1, 1, 1, 1], [1, 1, 1, 1, 1, 1], [1, 1, 1, 1, 1, 1]])"
   ]
  },
  {
   "cell_type": "markdown",
   "id": "5f2c2f4f-24fd-4bf3-ad01-a7f798bb9a6c",
   "metadata": {},
   "source": [
    "📌 문제: 물 웅덩이 찾기 🌊\\\n",
    "0과 1로 이루어진 board가 주어진다.\\\n",
    "1은 땅, 0은 물웅덩이를 의미한다.\\\n",
    "물웅덩이(0)가 몇 개 있는지 세는 함수를 작성하라.\\\n",
    "단, 상하좌우(4방향)로 연결된 물웅덩이는 하나로 간주한다."
   ]
  },
  {
   "cell_type": "code",
   "execution_count": 177,
   "id": "23346312-b017-4c9a-a8e1-713ff0d40292",
   "metadata": {},
   "outputs": [],
   "source": [
    "def solution(board):\n",
    "    n = len(board)\n",
    "    visited = [[False] * n for _ in range(n)] # 방문 여부 저장\n",
    "    puddle_count = 0\n",
    "\n",
    "    # 4방향 (상, 하, 좌, 우)\n",
    "    dx = [-1, 1, 0, 0]\n",
    "    dy = [0, 0, -1, 1]\n",
    "\n",
    "    # 연결된 0을 모두 탐색하는 함수\n",
    "    def dfs(x,y):\n",
    "        visited[x][y] = True # 현재 위치 방문 처리\n",
    "        for d in range(4):\n",
    "            nx, ny = x + dx[d], y + dy[d]\n",
    "            if 0 <= nx < n and 0 <= ny < n:\n",
    "                if board[nx][ny] == 0 and not visited[nx][ny]:\n",
    "                    dfs(nx,ny)\n",
    "    \n",
    "    # 1. 웅덩이 찾기\n",
    "    for i in range(n):\n",
    "        for j in range(n):\n",
    "            if board[i][j] == 0 and not visited[i][j]:\n",
    "                puddle_count += 1\n",
    "                dfs(i,j) # 연결된 0을 방문 처리\n",
    "    return puddle_count"
   ]
  },
  {
   "cell_type": "code",
   "execution_count": 179,
   "id": "c99f36cc-c1ca-48b8-b992-98cff82fe2bb",
   "metadata": {},
   "outputs": [
    {
     "name": "stdout",
     "output_type": "stream",
     "text": [
      "5\n"
     ]
    }
   ],
   "source": [
    "board = [\n",
    "    [1, 0, 1, 1, 0],\n",
    "    [1, 0, 0, 1, 1],\n",
    "    [1, 1, 1, 0, 1],\n",
    "    [0, 1, 1, 1, 1],\n",
    "    [1, 0, 1, 1, 1]\n",
    "]\n",
    "\n",
    "print(solution(board))"
   ]
  },
  {
   "cell_type": "markdown",
   "id": "b893c442-005e-47e5-a3f9-5acff99c2922",
   "metadata": {},
   "source": [
    "#### 3. 삼각형의 완성조건 (2)"
   ]
  },
  {
   "cell_type": "markdown",
   "id": "79e1e4a4-2d86-43a9-82f5-e25ccfa6a964",
   "metadata": {},
   "source": [
    "- 문제 설명: 선분 세 개로 삼각형을 만들기 위해서는 다음과 같은 조건을 만족해야 합니다.\r\n",
    "\r\n",
    "가장 긴 변의 길이는 다른 두 변의 길이의 합보다 작아야 합니다.\r\n",
    "삼각형의 두 변의 길이가 담긴 배열 sides이 매개변수로 주어집니다. 나머지 한 변이 될 수 있는 정수의 개수를 return하도록 solution 함수를 완성해주세요."
   ]
  },
  {
   "cell_type": "code",
   "execution_count": 214,
   "id": "1dac35c5-6f45-4df9-a387-fe77a13474d5",
   "metadata": {},
   "outputs": [],
   "source": [
    "def solution(sides):\n",
    "    num_count = 0\n",
    "    # 리스트 속 숫자를 가장 긴 변으로 할 때\n",
    "    max_num = max(sides)\n",
    "    min_num = min(sides)\n",
    "    for i in range(1, max_num+1):\n",
    "        if min_num + i > max_num:\n",
    "            num_count += 1\n",
    "\n",
    "    # 나머지 한 변이 가장 긴 변인 경우\n",
    "    num_sum = sum(sides)\n",
    "    for i in range(max_num +1, num_sum):\n",
    "        num_count += 1\n",
    "    return num_count"
   ]
  },
  {
   "cell_type": "code",
   "execution_count": 216,
   "id": "cb2e8f3f-4c9f-4de9-9e43-c51745274177",
   "metadata": {},
   "outputs": [
    {
     "data": {
      "text/plain": [
       "1"
      ]
     },
     "execution_count": 216,
     "metadata": {},
     "output_type": "execute_result"
    }
   ],
   "source": [
    "solution([1, 2])"
   ]
  },
  {
   "cell_type": "code",
   "execution_count": 218,
   "id": "beb4c648-8560-4761-9a1a-6b745533331f",
   "metadata": {},
   "outputs": [
    {
     "data": {
      "text/plain": [
       "5"
      ]
     },
     "execution_count": 218,
     "metadata": {},
     "output_type": "execute_result"
    }
   ],
   "source": [
    "solution([3, 6])"
   ]
  },
  {
   "cell_type": "code",
   "execution_count": 220,
   "id": "99a04c9c-ef1d-4ba8-b054-2e799b75f150",
   "metadata": {},
   "outputs": [
    {
     "data": {
      "text/plain": [
       "13"
      ]
     },
     "execution_count": 220,
     "metadata": {},
     "output_type": "execute_result"
    }
   ],
   "source": [
    "solution([11, 7])"
   ]
  },
  {
   "cell_type": "markdown",
   "id": "af3e3344-4c44-489e-a0a9-e6b55c9e1e02",
   "metadata": {},
   "source": [
    "#### 4. 외계어 사전"
   ]
  },
  {
   "cell_type": "markdown",
   "id": "db64fa08-be77-4089-9683-f22b30aa65b8",
   "metadata": {},
   "source": [
    "- 문제 설명: PROGRAMMERS-962 행성에 불시착한 우주비행사 머쓱이는 외계행성의 언어를 공부하려고 합니다. 알파벳이 담긴 배열 spell과 외계어 사전 dic이 매개변수로 주어집니다. spell에 담긴 알파벳을 한번씩만 모두 사용한 단어가 dic에 존재한다면 1, 존재하지 않는다면 2를 return하도록 solution 함수를 완성해주세요."
   ]
  },
  {
   "cell_type": "code",
   "execution_count": 246,
   "id": "0a578e73-075e-46a1-989a-23f4efb7e238",
   "metadata": {},
   "outputs": [],
   "source": [
    "def solution(spell, dic):\n",
    "    spell_set = set(spell)\n",
    "\n",
    "    for i in dic:\n",
    "        if set(i) == spell_set:\n",
    "            return 1\n",
    "    return 2"
   ]
  },
  {
   "cell_type": "code",
   "execution_count": 248,
   "id": "ee892357-a366-4a35-b836-99e80495bfb7",
   "metadata": {},
   "outputs": [
    {
     "data": {
      "text/plain": [
       "2"
      ]
     },
     "execution_count": 248,
     "metadata": {},
     "output_type": "execute_result"
    }
   ],
   "source": [
    "solution([\"p\", \"o\", \"s\"], [\"sod\", \"eocd\", \"qixm\", \"adio\", \"soo\"])"
   ]
  },
  {
   "cell_type": "code",
   "execution_count": 250,
   "id": "da4ccf25-1eb3-4c4c-8920-cf3a7f1b48ff",
   "metadata": {},
   "outputs": [
    {
     "data": {
      "text/plain": [
       "1"
      ]
     },
     "execution_count": 250,
     "metadata": {},
     "output_type": "execute_result"
    }
   ],
   "source": [
    "solution([\"z\", \"d\", \"x\"], \t[\"def\", \"dww\", \"dzx\", \"loveaw\"])"
   ]
  },
  {
   "cell_type": "code",
   "execution_count": 252,
   "id": "6e11ad57-f20f-455e-9c6b-a9d28842f6db",
   "metadata": {},
   "outputs": [
    {
     "data": {
      "text/plain": [
       "2"
      ]
     },
     "execution_count": 252,
     "metadata": {},
     "output_type": "execute_result"
    }
   ],
   "source": [
    "solution([\"s\", \"o\", \"m\", \"d\"], [\"moos\", \"dzx\", \"smm\", \"sunmmo\", \"som\"])"
   ]
  }
 ],
 "metadata": {
  "kernelspec": {
   "display_name": "Python 3 (ipykernel)",
   "language": "python",
   "name": "python3"
  },
  "language_info": {
   "codemirror_mode": {
    "name": "ipython",
    "version": 3
   },
   "file_extension": ".py",
   "mimetype": "text/x-python",
   "name": "python",
   "nbconvert_exporter": "python",
   "pygments_lexer": "ipython3",
   "version": "3.12.4"
  }
 },
 "nbformat": 4,
 "nbformat_minor": 5
}
