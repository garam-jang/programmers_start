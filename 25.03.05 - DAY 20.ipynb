{
 "cells": [
  {
   "cell_type": "markdown",
   "id": "d7139a69-d9cb-4e18-9474-f1ba72dd75f2",
   "metadata": {},
   "source": [
    "## DAY 20"
   ]
  },
  {
   "cell_type": "markdown",
   "id": "d8120de9-e2bd-4787-ab83-df665ea28e18",
   "metadata": {},
   "source": [
    "#### 1. 직사각형의 넓이 구하기"
   ]
  },
  {
   "cell_type": "markdown",
   "id": "c98aaa27-0cb4-4fd1-bfef-6f5ba84f4eb3",
   "metadata": {},
   "source": [
    "- 문제 설명: 2차원 좌표 평면에 변이 축과 평행한 직사각형이 있습니다. 직사각형 네 꼭짓점의 좌표 [[x1, y1], [x2, y2], [x3, y3], [x4, y4]]가 담겨있는 배열 dots가 매개변수로 주어질 때, 직사각형의 넓이를 return 하도록 solution 함수를 완성해보세요."
   ]
  },
  {
   "cell_type": "code",
   "execution_count": 62,
   "id": "c56a4366-6dff-48a9-b1cd-a7a64812caa5",
   "metadata": {},
   "outputs": [],
   "source": [
    "def solution(dots):\n",
    "    x_list = []\n",
    "    y_list = []\n",
    "    for x, y in dots:\n",
    "        x_list.append(x)\n",
    "        y_list.append(y)\n",
    "    width = max(x_list) - min(x_list)\n",
    "    length = max(y_list) - min(y_list)\n",
    "    return width * length"
   ]
  },
  {
   "cell_type": "code",
   "execution_count": 74,
   "id": "ef6decb4-697c-4995-aaf1-a5b0a1a35d2b",
   "metadata": {},
   "outputs": [],
   "source": [
    "def solution(dots):\n",
    "    x,y = [], []\n",
    "    for dot in dots:\n",
    "        x.append(dot[0])\n",
    "        y.append(dot[1])\n",
    "    return (max(x) - min(x)) * (max(y) - min(y))"
   ]
  },
  {
   "cell_type": "code",
   "execution_count": 76,
   "id": "950d67cf-e3a9-4de8-84f2-5baffbc3cb1f",
   "metadata": {},
   "outputs": [
    {
     "data": {
      "text/plain": [
       "1"
      ]
     },
     "execution_count": 76,
     "metadata": {},
     "output_type": "execute_result"
    }
   ],
   "source": [
    "solution([[1, 1], [2, 1], [2, 2], [1, 2]])"
   ]
  },
  {
   "cell_type": "code",
   "execution_count": 78,
   "id": "c023f59a-2559-4fce-a6a3-6043e78cfa4e",
   "metadata": {},
   "outputs": [
    {
     "data": {
      "text/plain": [
       "4"
      ]
     },
     "execution_count": 78,
     "metadata": {},
     "output_type": "execute_result"
    }
   ],
   "source": [
    "solution([[-1, -1], [1, 1], [1, -1], [-1, 1]])"
   ]
  },
  {
   "cell_type": "markdown",
   "id": "2ee5fed6-12a0-4b78-8844-c40faeaf72b1",
   "metadata": {},
   "source": [
    "#### 2. 캐릭터의 좌표"
   ]
  },
  {
   "cell_type": "markdown",
   "id": "e9bdf058-4708-47fd-9460-35176b427d3c",
   "metadata": {},
   "source": [
    "- 문제 설명: 머쓱이는 RPG게임을 하고 있습니다. 게임에는 up, down, left, right 방향키가 있으며 각 키를 누르면 위, 아래, 왼쪽, 오른쪽으로 한 칸씩 이동합니다. 예를 들어 [0,0]에서 up을 누른다면 캐릭터의 좌표는 [0, 1], down을 누른다면 [0, -1], left를 누른다면 [-1, 0], right를 누른다면 [1, 0]입니다. 머쓱이가 입력한 방향키의 배열 keyinput와 맵의 크기 board이 매개변수로 주어집니다. 캐릭터는 항상 [0,0]에서 시작할 때 키 입력이 모두 끝난 뒤에 캐릭터의 좌표 [x, y]를 return하도록 solution 함수를 완성해주세요.\n",
    "\n",
    "- [0, 0]은 board의 정 중앙에 위치합니다. 예를 들어 board의 가로 크기가 9라면 캐릭터는 왼쪽으로 최대 [-4, 0]까지 오른쪽으로 최대 [4, 0]까지 이동할 수 있습니다."
   ]
  },
  {
   "cell_type": "code",
   "execution_count": 116,
   "id": "075ccdd8-29e0-4dda-8002-af1b9feeccf1",
   "metadata": {},
   "outputs": [],
   "source": [
    "def solution(keyinput, board):\n",
    "    x, y = 0, 0\n",
    "    x_limit, y_limit = board[0] // 2, board[1] // 2 \n",
    "\n",
    "    for key in keyinput:\n",
    "        if key == \"left\":\n",
    "            x -= 1\n",
    "        elif key == \"right\":\n",
    "            x += 1\n",
    "        elif key == \"down\":\n",
    "            y -= 1\n",
    "        elif key == \"up\":\n",
    "            y += 1\n",
    "\n",
    "        x = max(-x_limit, min(x, x_limit))\n",
    "        y = max(-y_limit, min(y, y_limit))\n",
    "\n",
    "    return [x, y]\n"
   ]
  },
  {
   "cell_type": "code",
   "execution_count": 118,
   "id": "9d90478b-f760-45b8-8ba1-cdd71c520e89",
   "metadata": {},
   "outputs": [
    {
     "data": {
      "text/plain": [
       "[2, 1]"
      ]
     },
     "execution_count": 118,
     "metadata": {},
     "output_type": "execute_result"
    }
   ],
   "source": [
    "solution([\"left\", \"right\", \"up\", \"right\", \"right\"], [11, 11])"
   ]
  },
  {
   "cell_type": "code",
   "execution_count": 120,
   "id": "a5b7a06f-03a7-4ae9-86c8-d79adcd0a9e8",
   "metadata": {},
   "outputs": [
    {
     "data": {
      "text/plain": [
       "[0, -4]"
      ]
     },
     "execution_count": 120,
     "metadata": {},
     "output_type": "execute_result"
    }
   ],
   "source": [
    "solution([\"down\", \"down\", \"down\", \"down\", \"down\"], [7,9])"
   ]
  },
  {
   "cell_type": "code",
   "execution_count": 94,
   "id": "dfe70be8-0934-430f-bd32-c0297a75fdbc",
   "metadata": {},
   "outputs": [
    {
     "data": {
      "text/plain": [
       "4"
      ]
     },
     "execution_count": 94,
     "metadata": {},
     "output_type": "execute_result"
    }
   ],
   "source": [
    "9 //2"
   ]
  },
  {
   "cell_type": "markdown",
   "id": "b893c442-005e-47e5-a3f9-5acff99c2922",
   "metadata": {},
   "source": [
    "#### 3. 최댓값 만들기 (2)"
   ]
  },
  {
   "cell_type": "markdown",
   "id": "79e1e4a4-2d86-43a9-82f5-e25ccfa6a964",
   "metadata": {},
   "source": [
    "- 문제 설명: 정수 배열 numbers가 매개변수로 주어집니다. numbers의 원소 중 두 개를 곱해 만들 수 있는 최댓값을 return하도록 solution 함수를 완성해주세요."
   ]
  },
  {
   "cell_type": "code",
   "execution_count": 8,
   "id": "1dac35c5-6f45-4df9-a387-fe77a13474d5",
   "metadata": {},
   "outputs": [],
   "source": [
    "def solution(numbers):\n",
    "    numbers = sorted(numbers)\n",
    "    answer1 = numbers[0] * numbers[1]\n",
    "    answer2 = numbers[-2] * numbers[-1]\n",
    "    if answer1> answer2:\n",
    "        return answer1\n",
    "    else:\n",
    "        return answer2"
   ]
  },
  {
   "cell_type": "code",
   "execution_count": 16,
   "id": "fab112db-c40e-4647-9cf1-6f5b4ff406db",
   "metadata": {},
   "outputs": [],
   "source": [
    "# 간단하게 표현하기\n",
    "def solution(numbers):\n",
    "    numbers = sorted(numbers)\n",
    "    return max(numbers[0] * numbers[1], numbers[-1]*numbers[-2])"
   ]
  },
  {
   "cell_type": "code",
   "execution_count": 18,
   "id": "cb2e8f3f-4c9f-4de9-9e43-c51745274177",
   "metadata": {},
   "outputs": [
    {
     "data": {
      "text/plain": [
       "15"
      ]
     },
     "execution_count": 18,
     "metadata": {},
     "output_type": "execute_result"
    }
   ],
   "source": [
    "solution([1, 2, -3, 4, -5])"
   ]
  },
  {
   "cell_type": "code",
   "execution_count": 20,
   "id": "cb98cd8d-e865-4621-8492-f629fc08a350",
   "metadata": {},
   "outputs": [
    {
     "data": {
      "text/plain": [
       "240"
      ]
     },
     "execution_count": 20,
     "metadata": {},
     "output_type": "execute_result"
    }
   ],
   "source": [
    "solution([0, -31, 24, 10, 1, 9])"
   ]
  },
  {
   "cell_type": "code",
   "execution_count": 22,
   "id": "8d6aa1e1-9454-45be-b7cc-1984953a3e48",
   "metadata": {},
   "outputs": [
    {
     "data": {
      "text/plain": [
       "600"
      ]
     },
     "execution_count": 22,
     "metadata": {},
     "output_type": "execute_result"
    }
   ],
   "source": [
    "solution([10, 20, 30, 5, 5, 20, 5])"
   ]
  },
  {
   "cell_type": "markdown",
   "id": "af3e3344-4c44-489e-a0a9-e6b55c9e1e02",
   "metadata": {},
   "source": [
    "#### 4. 다항식 더하기"
   ]
  },
  {
   "cell_type": "markdown",
   "id": "db64fa08-be77-4089-9683-f22b30aa65b8",
   "metadata": {},
   "source": [
    "- 문제 설명: 한 개 이상의 항의 합으로 이루어진 식을 다항식이라고 합니다. 다항식을 계산할 때는 동류항끼리 계산해 정리합니다. 덧셈으로 이루어진 다항식 polynomial이 매개변수로 주어질 때, 동류항끼리 더한 결괏값을 문자열로 return 하도록 solution 함수를 완성해보세요. 같은 식이라면 가장 짧은 수식을 return 합니다."
   ]
  },
  {
   "cell_type": "code",
   "execution_count": 126,
   "id": "0a578e73-075e-46a1-989a-23f4efb7e238",
   "metadata": {},
   "outputs": [],
   "source": [
    "def solution(polynomial):\n",
    "    x_sum = 0\n",
    "    num_sum = 0\n",
    "    \n",
    "    for term in polynomial.split(\" + \"):\n",
    "        term = term.strip()\n",
    "        if \"x\" in term:\n",
    "            coef = term.replace(\"x\", \"\") \n",
    "            x_sum += int(coef) if coef else 1\n",
    "        else:\n",
    "            num_sum += int(term)\n",
    "\n",
    "    result = []\n",
    "    if x_sum:\n",
    "        result.append(f\"{x_sum}x\" if x_sum != 1 else \"x\")\n",
    "    if num_sum:\n",
    "        result.append(str(num_sum))\n",
    "    \n",
    "    return \" + \".join(result) if result else \"0\"\n"
   ]
  },
  {
   "cell_type": "code",
   "execution_count": 128,
   "id": "290bc766-23f5-4830-a999-909f8c999ca7",
   "metadata": {},
   "outputs": [
    {
     "data": {
      "text/plain": [
       "'4x + 7'"
      ]
     },
     "execution_count": 128,
     "metadata": {},
     "output_type": "execute_result"
    }
   ],
   "source": [
    "solution(\"3x + 7 + x\")"
   ]
  },
  {
   "cell_type": "code",
   "execution_count": 130,
   "id": "59073495-61ed-499d-a94e-74be7a9b4c86",
   "metadata": {},
   "outputs": [
    {
     "data": {
      "text/plain": [
       "'3x'"
      ]
     },
     "execution_count": 130,
     "metadata": {},
     "output_type": "execute_result"
    }
   ],
   "source": [
    "solution(\"x + x + x\")"
   ]
  }
 ],
 "metadata": {
  "kernelspec": {
   "display_name": "Python 3 (ipykernel)",
   "language": "python",
   "name": "python3"
  },
  "language_info": {
   "codemirror_mode": {
    "name": "ipython",
    "version": 3
   },
   "file_extension": ".py",
   "mimetype": "text/x-python",
   "name": "python",
   "nbconvert_exporter": "python",
   "pygments_lexer": "ipython3",
   "version": "3.12.4"
  }
 },
 "nbformat": 4,
 "nbformat_minor": 5
}
