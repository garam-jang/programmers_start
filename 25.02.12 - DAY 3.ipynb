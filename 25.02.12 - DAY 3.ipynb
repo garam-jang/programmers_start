{
 "cells": [
  {
   "cell_type": "markdown",
   "id": "d7139a69-d9cb-4e18-9474-f1ba72dd75f2",
   "metadata": {},
   "source": [
    "## DAY 3"
   ]
  },
  {
   "cell_type": "markdown",
   "id": "d8120de9-e2bd-4787-ab83-df665ea28e18",
   "metadata": {},
   "source": [
    "#### 1. 나머지 구하기"
   ]
  },
  {
   "cell_type": "markdown",
   "id": "c98aaa27-0cb4-4fd1-bfef-6f5ba84f4eb3",
   "metadata": {},
   "source": [
    "- 문제 설명: 정수 num1, num2가 매개변수로 주어질 때, num1를 num2로 나눈 나머지를 return 하도록 solution 함수를 완성해주세요."
   ]
  },
  {
   "cell_type": "code",
   "execution_count": 4,
   "id": "c56a4366-6dff-48a9-b1cd-a7a64812caa5",
   "metadata": {},
   "outputs": [],
   "source": [
    "def solution(num1, num2):\n",
    "    return num1 % num2"
   ]
  },
  {
   "cell_type": "code",
   "execution_count": 6,
   "id": "950d67cf-e3a9-4de8-84f2-5baffbc3cb1f",
   "metadata": {},
   "outputs": [
    {
     "data": {
      "text/plain": [
       "1"
      ]
     },
     "execution_count": 6,
     "metadata": {},
     "output_type": "execute_result"
    }
   ],
   "source": [
    "solution(3,2)"
   ]
  },
  {
   "cell_type": "code",
   "execution_count": 8,
   "id": "d1819008-9551-49db-8fd5-b426e26276e9",
   "metadata": {},
   "outputs": [
    {
     "data": {
      "text/plain": [
       "0"
      ]
     },
     "execution_count": 8,
     "metadata": {},
     "output_type": "execute_result"
    }
   ],
   "source": [
    "solution(10,5)"
   ]
  },
  {
   "cell_type": "markdown",
   "id": "2ee5fed6-12a0-4b78-8844-c40faeaf72b1",
   "metadata": {},
   "source": [
    "#### 2. 중앙값 구하기"
   ]
  },
  {
   "cell_type": "markdown",
   "id": "e9bdf058-4708-47fd-9460-35176b427d3c",
   "metadata": {},
   "source": [
    "- 문제 설명: 중앙값은 어떤 주어진 값들을 크기의 순서대로 정렬했을 때 가장 중앙에 위치하는 값을 의미합니다. 예를 들어 1, 2, 7, 10, 11의 중앙값은 7입니다. 정수 배열 array가 매개변수로 주어질 때, 중앙값을 return 하도록 solution 함수를 완성해보세요."
   ]
  },
  {
   "cell_type": "code",
   "execution_count": 75,
   "id": "075ccdd8-29e0-4dda-8002-af1b9feeccf1",
   "metadata": {},
   "outputs": [],
   "source": [
    "def solution(array):\n",
    "    sort_array = sorted(array)\n",
    "    index = len(sorted(array)) // 2\n",
    "    return sort_array[index]"
   ]
  },
  {
   "cell_type": "code",
   "execution_count": 77,
   "id": "9d90478b-f760-45b8-8ba1-cdd71c520e89",
   "metadata": {},
   "outputs": [
    {
     "data": {
      "text/plain": [
       "7"
      ]
     },
     "execution_count": 77,
     "metadata": {},
     "output_type": "execute_result"
    }
   ],
   "source": [
    "solution([1, 2, 7, 10, 11])"
   ]
  },
  {
   "cell_type": "code",
   "execution_count": 79,
   "id": "052067ad-2c47-4699-b5ef-d5561b65c773",
   "metadata": {},
   "outputs": [
    {
     "data": {
      "text/plain": [
       "0"
      ]
     },
     "execution_count": 79,
     "metadata": {},
     "output_type": "execute_result"
    }
   ],
   "source": [
    "solution([9,-1,0])"
   ]
  },
  {
   "cell_type": "markdown",
   "id": "b893c442-005e-47e5-a3f9-5acff99c2922",
   "metadata": {},
   "source": [
    "#### 3. 최빈값 구하기"
   ]
  },
  {
   "cell_type": "markdown",
   "id": "79e1e4a4-2d86-43a9-82f5-e25ccfa6a964",
   "metadata": {},
   "source": [
    "- 문제 설명: 최빈값은 주어진 값 중에서 가장 자주 나오는 값을 의미합니다. 정수 배열 array가 매개변수로 주어질 때, 최빈값을 return 하도록 solution 함수를 완성해보세요. 최빈값이 여러 개면 -1을 return 합니다."
   ]
  },
  {
   "cell_type": "code",
   "execution_count": 142,
   "id": "1dac35c5-6f45-4df9-a387-fe77a13474d5",
   "metadata": {},
   "outputs": [],
   "source": [
    "def solution(array):\n",
    "    count = {}\n",
    "    for i in array:\n",
    "        count[i] = count.get(i,0) +1\n",
    "\n",
    "    max_values = max(count.values())\n",
    "    array = [key for key, value in count.items() if value == max_values]\n",
    "\n",
    "    if len(array) > 1:\n",
    "        return -1\n",
    "    else:\n",
    "        return array[0]"
   ]
  },
  {
   "cell_type": "code",
   "execution_count": 144,
   "id": "cb2e8f3f-4c9f-4de9-9e43-c51745274177",
   "metadata": {},
   "outputs": [
    {
     "data": {
      "text/plain": [
       "3"
      ]
     },
     "execution_count": 144,
     "metadata": {},
     "output_type": "execute_result"
    }
   ],
   "source": [
    "solution([1, 2, 3, 3, 3, 4])"
   ]
  },
  {
   "cell_type": "code",
   "execution_count": 146,
   "id": "b7ffb864-e337-456e-a416-32997b180fe3",
   "metadata": {},
   "outputs": [
    {
     "data": {
      "text/plain": [
       "-1"
      ]
     },
     "execution_count": 146,
     "metadata": {},
     "output_type": "execute_result"
    }
   ],
   "source": [
    "solution([1,1,2,2])"
   ]
  },
  {
   "cell_type": "code",
   "execution_count": 148,
   "id": "7418183f-382e-40dd-a091-d9240c3ad7c7",
   "metadata": {},
   "outputs": [
    {
     "data": {
      "text/plain": [
       "1"
      ]
     },
     "execution_count": 148,
     "metadata": {},
     "output_type": "execute_result"
    }
   ],
   "source": [
    "solution([1])"
   ]
  },
  {
   "cell_type": "markdown",
   "id": "af3e3344-4c44-489e-a0a9-e6b55c9e1e02",
   "metadata": {},
   "source": [
    "#### 4. 짝수는 싫어요"
   ]
  },
  {
   "cell_type": "markdown",
   "id": "db64fa08-be77-4089-9683-f22b30aa65b8",
   "metadata": {},
   "source": [
    "- 문제 설명: 정수 n이 매개변수로 주어질 때, n 이하의 홀수가 오름차순으로 담긴 배열을 return하도록 solution 함수를 완성해주세요."
   ]
  },
  {
   "cell_type": "code",
   "execution_count": 85,
   "id": "0a578e73-075e-46a1-989a-23f4efb7e238",
   "metadata": {},
   "outputs": [],
   "source": [
    "def solution(n):\n",
    "    answer = []\n",
    "    for i in range(1, n+1):\n",
    "        if i % 2 == 1:\n",
    "            answer.append(i)\n",
    "    return answer"
   ]
  },
  {
   "cell_type": "code",
   "execution_count": 93,
   "id": "ee892357-a366-4a35-b836-99e80495bfb7",
   "metadata": {},
   "outputs": [
    {
     "data": {
      "text/plain": [
       "[1, 3, 5, 7, 9]"
      ]
     },
     "execution_count": 93,
     "metadata": {},
     "output_type": "execute_result"
    }
   ],
   "source": [
    "solution(10)"
   ]
  },
  {
   "cell_type": "code",
   "execution_count": 95,
   "id": "53d59e1f-073f-42a0-9788-ee4f81c8e221",
   "metadata": {},
   "outputs": [
    {
     "data": {
      "text/plain": [
       "[1, 3, 5, 7, 9, 11, 13, 15]"
      ]
     },
     "execution_count": 95,
     "metadata": {},
     "output_type": "execute_result"
    }
   ],
   "source": [
    "solution(15)"
   ]
  },
  {
   "cell_type": "code",
   "execution_count": 91,
   "id": "9e35313d-4b1a-4a60-8ab9-c8fa1d648070",
   "metadata": {},
   "outputs": [],
   "source": [
    "def solution(n):\n",
    "    return [i for i in range(1, n+1) if i % 2 ]"
   ]
  }
 ],
 "metadata": {
  "kernelspec": {
   "display_name": "Python 3 (ipykernel)",
   "language": "python",
   "name": "python3"
  },
  "language_info": {
   "codemirror_mode": {
    "name": "ipython",
    "version": 3
   },
   "file_extension": ".py",
   "mimetype": "text/x-python",
   "name": "python",
   "nbconvert_exporter": "python",
   "pygments_lexer": "ipython3",
   "version": "3.12.4"
  }
 },
 "nbformat": 4,
 "nbformat_minor": 5
}
