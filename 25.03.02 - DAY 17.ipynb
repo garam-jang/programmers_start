{
 "cells": [
  {
   "cell_type": "markdown",
   "id": "d7139a69-d9cb-4e18-9474-f1ba72dd75f2",
   "metadata": {},
   "source": [
    "## DAY 17"
   ]
  },
  {
   "cell_type": "markdown",
   "id": "d8120de9-e2bd-4787-ab83-df665ea28e18",
   "metadata": {},
   "source": [
    "#### 1. 숫자 찾기"
   ]
  },
  {
   "cell_type": "markdown",
   "id": "c98aaa27-0cb4-4fd1-bfef-6f5ba84f4eb3",
   "metadata": {},
   "source": [
    "- 문제 설명: 정수 num과 k가 매개변수로 주어질 때, num을 이루는 숫자 중에 k가 있으면 num의 그 숫자가 있는 자리 수를 return하고 없으면 -1을 return 하도록 solution 함수를 완성해보세요."
   ]
  },
  {
   "cell_type": "code",
   "execution_count": 28,
   "id": "c56a4366-6dff-48a9-b1cd-a7a64812caa5",
   "metadata": {},
   "outputs": [],
   "source": [
    "def solution(num, k):\n",
    "    answer = -1\n",
    "    for idx, x in enumerate(str(num)):\n",
    "        if x == str(k):\n",
    "            answer = idx + 1\n",
    "            break\n",
    "    return answer"
   ]
  },
  {
   "cell_type": "code",
   "execution_count": 30,
   "id": "950d67cf-e3a9-4de8-84f2-5baffbc3cb1f",
   "metadata": {},
   "outputs": [
    {
     "data": {
      "text/plain": [
       "3"
      ]
     },
     "execution_count": 30,
     "metadata": {},
     "output_type": "execute_result"
    }
   ],
   "source": [
    "solution(29183, 1)"
   ]
  },
  {
   "cell_type": "code",
   "execution_count": 32,
   "id": "bbe9eeb1-9974-4c75-8505-9ed01a05ad25",
   "metadata": {},
   "outputs": [
    {
     "data": {
      "text/plain": [
       "4"
      ]
     },
     "execution_count": 32,
     "metadata": {},
     "output_type": "execute_result"
    }
   ],
   "source": [
    "solution(232443, 4)"
   ]
  },
  {
   "cell_type": "code",
   "execution_count": 34,
   "id": "4e93d5e4-bbc7-40b7-9f19-b40cf6f246c5",
   "metadata": {},
   "outputs": [
    {
     "data": {
      "text/plain": [
       "-1"
      ]
     },
     "execution_count": 34,
     "metadata": {},
     "output_type": "execute_result"
    }
   ],
   "source": [
    "solution(123456, 7)"
   ]
  },
  {
   "cell_type": "markdown",
   "id": "2ee5fed6-12a0-4b78-8844-c40faeaf72b1",
   "metadata": {},
   "source": [
    "#### 2. n의 배수 고르기"
   ]
  },
  {
   "cell_type": "markdown",
   "id": "e9bdf058-4708-47fd-9460-35176b427d3c",
   "metadata": {},
   "source": [
    "- 문제 설명: 정수 n과 정수 배열 numlist가 매개변수로 주어질 때, numlist에서 n의 배수가 아닌 수들을 제거한 배열을 return하도록 solution 함수를 완성해주세요."
   ]
  },
  {
   "cell_type": "code",
   "execution_count": 38,
   "id": "075ccdd8-29e0-4dda-8002-af1b9feeccf1",
   "metadata": {},
   "outputs": [],
   "source": [
    "def solution(n, numlist):\n",
    "    answer = []\n",
    "    for i in numlist:\n",
    "        if i % n == 0:\n",
    "            answer.append(i)\n",
    "    return answer"
   ]
  },
  {
   "cell_type": "code",
   "execution_count": 48,
   "id": "9e22f72c-31c6-4f23-a94a-9308ad57d39e",
   "metadata": {},
   "outputs": [],
   "source": [
    "def solution(n, numlist):\n",
    "    return [i for i in numlist if i % n == 0]"
   ]
  },
  {
   "cell_type": "code",
   "execution_count": 50,
   "id": "9d90478b-f760-45b8-8ba1-cdd71c520e89",
   "metadata": {},
   "outputs": [
    {
     "data": {
      "text/plain": [
       "[6, 9, 12]"
      ]
     },
     "execution_count": 50,
     "metadata": {},
     "output_type": "execute_result"
    }
   ],
   "source": [
    "solution(3,[4, 5, 6, 7, 8, 9, 10, 11, 12])"
   ]
  },
  {
   "cell_type": "code",
   "execution_count": 52,
   "id": "5891430d-7fea-4ea7-ba42-cb55c9a68f4a",
   "metadata": {},
   "outputs": [
    {
     "data": {
      "text/plain": [
       "[10, 5]"
      ]
     },
     "execution_count": 52,
     "metadata": {},
     "output_type": "execute_result"
    }
   ],
   "source": [
    "solution(5,[1, 9, 3, 10, 13, 5])"
   ]
  },
  {
   "cell_type": "code",
   "execution_count": 54,
   "id": "3bab4337-cd88-4bdd-a603-a54e39997940",
   "metadata": {},
   "outputs": [
    {
     "data": {
      "text/plain": [
       "[120, 600, 12, 12]"
      ]
     },
     "execution_count": 54,
     "metadata": {},
     "output_type": "execute_result"
    }
   ],
   "source": [
    "solution(12, [2, 100, 120, 600, 12, 12])"
   ]
  },
  {
   "cell_type": "markdown",
   "id": "b893c442-005e-47e5-a3f9-5acff99c2922",
   "metadata": {},
   "source": [
    "#### 3. 자릿수 더하기"
   ]
  },
  {
   "cell_type": "markdown",
   "id": "79e1e4a4-2d86-43a9-82f5-e25ccfa6a964",
   "metadata": {},
   "source": [
    "- 문제 설명: 정수 n이 매개변수로 주어질 때 n의 각 자리 숫자의 합을 return하도록 solution 함수를 완성해주세요"
   ]
  },
  {
   "cell_type": "code",
   "execution_count": 58,
   "id": "1dac35c5-6f45-4df9-a387-fe77a13474d5",
   "metadata": {},
   "outputs": [],
   "source": [
    "def solution(n):\n",
    "    answer = 0\n",
    "    for i in str(n):\n",
    "        answer += int(i)\n",
    "    return answer"
   ]
  },
  {
   "cell_type": "code",
   "execution_count": 70,
   "id": "eb4e81fe-2179-40cf-b969-f2e3d2cb5782",
   "metadata": {},
   "outputs": [],
   "source": [
    "def solution(n):\n",
    "    return sum(int(i) for i in str(n))"
   ]
  },
  {
   "cell_type": "code",
   "execution_count": 72,
   "id": "cb2e8f3f-4c9f-4de9-9e43-c51745274177",
   "metadata": {},
   "outputs": [
    {
     "data": {
      "text/plain": [
       "10"
      ]
     },
     "execution_count": 72,
     "metadata": {},
     "output_type": "execute_result"
    }
   ],
   "source": [
    "solution(1234)"
   ]
  },
  {
   "cell_type": "code",
   "execution_count": 74,
   "id": "9a3a565b-1295-4890-93f9-087bac49bc1b",
   "metadata": {},
   "outputs": [
    {
     "data": {
      "text/plain": [
       "16"
      ]
     },
     "execution_count": 74,
     "metadata": {},
     "output_type": "execute_result"
    }
   ],
   "source": [
    "solution(930211)"
   ]
  },
  {
   "cell_type": "markdown",
   "id": "af3e3344-4c44-489e-a0a9-e6b55c9e1e02",
   "metadata": {},
   "source": [
    "#### 4. OX 퀴즈"
   ]
  },
  {
   "cell_type": "markdown",
   "id": "db64fa08-be77-4089-9683-f22b30aa65b8",
   "metadata": {},
   "source": [
    "- 문제 설명: 덧셈, 뺄셈 수식들이 'X [연산자] Y = Z' 형태로 들어있는 문자열 배열 quiz가 매개변수로 주어집니다. 수식이 옳다면 \"O\"를 틀리다면 \"X\"를 순서대로 담은 배열을 return하도록 solution 함수를 완성해주세요."
   ]
  },
  {
   "cell_type": "code",
   "execution_count": 98,
   "id": "0a578e73-075e-46a1-989a-23f4efb7e238",
   "metadata": {},
   "outputs": [],
   "source": [
    "def solution(quiz):\n",
    "    answer = []\n",
    "    for i in quiz:\n",
    "        x, z = i.split('=')\n",
    "        if eval(x) == int(z.strip()):\n",
    "            answer.append(\"O\")\n",
    "        else:\n",
    "            answer.append(\"X\")\n",
    "    return answer"
   ]
  },
  {
   "cell_type": "code",
   "execution_count": 100,
   "id": "ee892357-a366-4a35-b836-99e80495bfb7",
   "metadata": {},
   "outputs": [
    {
     "data": {
      "text/plain": [
       "['X', 'O']"
      ]
     },
     "execution_count": 100,
     "metadata": {},
     "output_type": "execute_result"
    }
   ],
   "source": [
    "solution([\"3 - 4 = -3\", \"5 + 6 = 11\"])"
   ]
  },
  {
   "cell_type": "code",
   "execution_count": 102,
   "id": "29b797a9-13c3-4649-98fa-cba0122901b6",
   "metadata": {},
   "outputs": [
    {
     "data": {
      "text/plain": [
       "['O', 'O', 'X', 'O']"
      ]
     },
     "execution_count": 102,
     "metadata": {},
     "output_type": "execute_result"
    }
   ],
   "source": [
    "solution([\"19 - 6 = 13\", \"5 + 66 = 71\", \"5 - 15 = 63\", \"3 - 1 = 2\"])"
   ]
  }
 ],
 "metadata": {
  "kernelspec": {
   "display_name": "Python 3 (ipykernel)",
   "language": "python",
   "name": "python3"
  },
  "language_info": {
   "codemirror_mode": {
    "name": "ipython",
    "version": 3
   },
   "file_extension": ".py",
   "mimetype": "text/x-python",
   "name": "python",
   "nbconvert_exporter": "python",
   "pygments_lexer": "ipython3",
   "version": "3.12.4"
  }
 },
 "nbformat": 4,
 "nbformat_minor": 5
}
