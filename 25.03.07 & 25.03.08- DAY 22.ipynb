{
 "cells": [
  {
   "cell_type": "markdown",
   "id": "d7139a69-d9cb-4e18-9474-f1ba72dd75f2",
   "metadata": {},
   "source": [
    "## DAY 22"
   ]
  },
  {
   "cell_type": "markdown",
   "id": "d8120de9-e2bd-4787-ab83-df665ea28e18",
   "metadata": {},
   "source": [
    "#### 1. 저주의 숫자 3"
   ]
  },
  {
   "cell_type": "markdown",
   "id": "c98aaa27-0cb4-4fd1-bfef-6f5ba84f4eb3",
   "metadata": {},
   "source": [
    "- 문제 설명: 3x 마을 사람들은 3을 저주의 숫자라고 생각하기 때문에 3의 배수와 숫자 3을 사용하지 않습니다. 3x 마을 사람들의 숫자는 다음과 같습니다.\n",
    "![nn](image_2.png)\\\n",
    "정수 n이 매개변수로 주어질 때, n을 3x 마을에서 사용하는 숫자로 바꿔 return하도록 solution 함수를 완성해주세요."
   ]
  },
  {
   "cell_type": "code",
   "execution_count": 32,
   "id": "c56a4366-6dff-48a9-b1cd-a7a64812caa5",
   "metadata": {},
   "outputs": [],
   "source": [
    "def solution(n):\n",
    "    count = 0\n",
    "    i = 1\n",
    "    while count != n:\n",
    "        if i % 3 == 0 or '3' in str(i):\n",
    "            i += 1\n",
    "            continue\n",
    "        count += 1\n",
    "        i += 1\n",
    "    return i - 1"
   ]
  },
  {
   "cell_type": "code",
   "execution_count": 34,
   "id": "950d67cf-e3a9-4de8-84f2-5baffbc3cb1f",
   "metadata": {},
   "outputs": [
    {
     "data": {
      "text/plain": [
       "25"
      ]
     },
     "execution_count": 34,
     "metadata": {},
     "output_type": "execute_result"
    }
   ],
   "source": [
    "solution(15)"
   ]
  },
  {
   "cell_type": "code",
   "execution_count": 36,
   "id": "29ef65f3-4e98-493e-b58c-b0f5cf414ded",
   "metadata": {},
   "outputs": [
    {
     "data": {
      "text/plain": [
       "76"
      ]
     },
     "execution_count": 36,
     "metadata": {},
     "output_type": "execute_result"
    }
   ],
   "source": [
    "solution(40)"
   ]
  },
  {
   "cell_type": "markdown",
   "id": "2ee5fed6-12a0-4b78-8844-c40faeaf72b1",
   "metadata": {},
   "source": [
    "#### 2. 평행"
   ]
  },
  {
   "cell_type": "markdown",
   "id": "e9bdf058-4708-47fd-9460-35176b427d3c",
   "metadata": {},
   "source": [
    "- 문제 설명: 점 네 개의 좌표를 담은 이차원 배열  dots가 다음과 같이 매개변수로 주어집니다.\n",
    "\n",
    "  [[x1, y1], [x2, y2], [x3, y3], [x4, y4]]\n",
    "주어진 네 개의 점을 두 개씩 이었을 때, 두 직선이 평행이 되는 경우가 있으면 1을 없으면 0을 return 하도록 solution 함수를 완성해보세요."
   ]
  },
  {
   "cell_type": "code",
   "execution_count": 94,
   "id": "075ccdd8-29e0-4dda-8002-af1b9feeccf1",
   "metadata": {},
   "outputs": [],
   "source": [
    "from itertools import combinations\n",
    "\n",
    "# 기울기 계산 함수\n",
    "def get_slope(p1, p2):\n",
    "    x1, y1 = p1\n",
    "    x2, y2 = p2\n",
    "\n",
    "    if x1 == x2: # x 좌표가 같으면 기울기는 무한대가 된다. 따로 표시\n",
    "        return flaot('inf')\n",
    "\n",
    "    return (y2 - y1) / (x2 - x1)\n",
    "\n",
    "def solution(dots):\n",
    "    pairs = list(combinations(dots, 2))\n",
    "\n",
    "    # 3가지 경우의 선을 비교\n",
    "    case1 = (pairs[0], pairs[5])\n",
    "    case2 = (pairs[1], pairs[4])\n",
    "    case3 = (pairs[2], pairs[3])\n",
    "\n",
    "    for (p1, p2), (p3,p4) in [case1, case2, case3]:\n",
    "        if get_slope(p1, p2) == get_slope(p3, p4):\n",
    "            return 1\n",
    "    return 0    "
   ]
  },
  {
   "cell_type": "code",
   "execution_count": 96,
   "id": "ea17890d-36a9-467e-a4a6-a015daa89256",
   "metadata": {},
   "outputs": [
    {
     "data": {
      "text/plain": [
       "1"
      ]
     },
     "execution_count": 96,
     "metadata": {},
     "output_type": "execute_result"
    }
   ],
   "source": [
    "solution([[1, 4], [9, 2], [3, 8], [11, 6]])"
   ]
  },
  {
   "cell_type": "code",
   "execution_count": 98,
   "id": "e72a3d83-f8c3-4746-9401-e87d1f08a968",
   "metadata": {},
   "outputs": [
    {
     "data": {
      "text/plain": [
       "0"
      ]
     },
     "execution_count": 98,
     "metadata": {},
     "output_type": "execute_result"
    }
   ],
   "source": [
    "solution([[3, 5], [4, 1], [2, 4], [5, 10]])"
   ]
  },
  {
   "cell_type": "markdown",
   "id": "b893c442-005e-47e5-a3f9-5acff99c2922",
   "metadata": {},
   "source": [
    "#### 3. 겹치는 선분의 길이"
   ]
  },
  {
   "cell_type": "markdown",
   "id": "79e1e4a4-2d86-43a9-82f5-e25ccfa6a964",
   "metadata": {},
   "source": [
    "- 문제 설명: 선분 3개가 평행하게 놓여 있습니다. 세 선분의 시작과 끝 좌표가 [[start, end], [start, end], [start, end]] 형태로 들어있는 2차원 배열 lines가 매개변수로 주어질 때, 두 개 이상의 선분이 겹치는 부분의 길이를 return 하도록 solution 함수를 완성해보세요.\r\n",
    "\r\n",
    "lines가 [[0, 2], [-3, -1], [-2, 1]]일 때 그림으로 나타내면 다음과 같습니\n",
    "![nn](image_3.png)\\\n",
    "선분이 두 개 이상 겹친 곳은 [-2, -1], [0, 1]로 길이 2만큼 겹쳐있습니다.다."
   ]
  },
  {
   "cell_type": "code",
   "execution_count": 23,
   "id": "4e18d7bf-9bc1-4c6f-89a1-1942f6cafa01",
   "metadata": {},
   "outputs": [],
   "source": [
    "def solution(lines):\n",
    "    min_value = min(min(line)for line in lines)\n",
    "    max_value = max(max(line)for line in lines)\n",
    "    size = max_value - min_value + 1\n",
    "\n",
    "    count = [0] * size\n",
    "    for line in lines:\n",
    "        for i in range(line[0], line[1]):\n",
    "            count[i - min_value] += 1\n",
    "    overlap_length = sum(1 for x in count if x >= 2)\n",
    "\n",
    "    return overlap_length"
   ]
  },
  {
   "cell_type": "code",
   "execution_count": 25,
   "id": "cb2e8f3f-4c9f-4de9-9e43-c51745274177",
   "metadata": {},
   "outputs": [
    {
     "data": {
      "text/plain": [
       "2"
      ]
     },
     "execution_count": 25,
     "metadata": {},
     "output_type": "execute_result"
    }
   ],
   "source": [
    "solution([[0, 1], [2, 5], [3, 9]])"
   ]
  },
  {
   "cell_type": "code",
   "execution_count": 27,
   "id": "f5beb71a-a489-4b74-9a0c-8624227713f0",
   "metadata": {},
   "outputs": [
    {
     "data": {
      "text/plain": [
       "0"
      ]
     },
     "execution_count": 27,
     "metadata": {},
     "output_type": "execute_result"
    }
   ],
   "source": [
    "solution([[-1, 1], [1, 3], [3, 9]])"
   ]
  },
  {
   "cell_type": "code",
   "execution_count": 29,
   "id": "6143b1ba-9fbf-4c1c-aa2e-b79b8e07c39f",
   "metadata": {},
   "outputs": [
    {
     "data": {
      "text/plain": [
       "8"
      ]
     },
     "execution_count": 29,
     "metadata": {},
     "output_type": "execute_result"
    }
   ],
   "source": [
    "solution([[0, 5], [3, 9], [1, 10]])"
   ]
  },
  {
   "cell_type": "markdown",
   "id": "af3e3344-4c44-489e-a0a9-e6b55c9e1e02",
   "metadata": {},
   "source": [
    "#### 4. 유한소수 판별하기"
   ]
  },
  {
   "cell_type": "markdown",
   "id": "db64fa08-be77-4089-9683-f22b30aa65b8",
   "metadata": {},
   "source": [
    "- 문제 설명: 소수점 아래 숫자가 계속되지 않고 유한개인 소수를 유한소수라고 합니다. 분수를 소수로 고칠 때 유한소수로 나타낼 수 있는 분수인지 판별하려고 합니다. 유한소수가 되기 위한 분수의 조건은 다음과 같습니다.\r\n",
    "\r\n",
    "기약분수로 나타내었을 때, 분모의 소인수가 2와 5만 존재해야 합니다.\r\n",
    "두 정수 a와 b가 매개변수로 주어질 때, a/b가 유한소수이면 1을, 무한소수라면 2를 return하도록 solution 함수를 완성해주세요."
   ]
  },
  {
   "cell_type": "code",
   "execution_count": 117,
   "id": "0a578e73-075e-46a1-989a-23f4efb7e238",
   "metadata": {},
   "outputs": [],
   "source": [
    "def factors(x): # 약수 반환\n",
    "    return [i for i in range(1, x+1) if x % i == 0]\n",
    "\n",
    "def greatest_common_divisor(a,b): # 최대 공약수 반환\n",
    "    a = set(a)\n",
    "    b = set(b)\n",
    "    return max(list(a & b))\n",
    "\n",
    "def has_only_2_and_5(x): # 소인수 분해 2와 5로만 하는지\n",
    "    while x % 2 == 0:\n",
    "        x //= 2\n",
    "    while x % 5 == 0:\n",
    "        x //= 5\n",
    "    return x == 1\n",
    "    \n",
    "def solution(a,b):\n",
    "    gcd = 0\n",
    "    while gcd != 1:      \n",
    "        a_factors = factors(a)\n",
    "        b_factors = factors(b)\n",
    "        gcd = greatest_common_divisor(a_factors, b_factors)\n",
    "\n",
    "        a = a // gcd\n",
    "        b = b//gcd\n",
    "\n",
    "    if has_only_2_and_5(b):\n",
    "        return 1\n",
    "    else:\n",
    "        return 2"
   ]
  },
  {
   "cell_type": "code",
   "execution_count": 127,
   "id": "47949159-8d44-42b5-b84a-5898a754fb79",
   "metadata": {},
   "outputs": [
    {
     "data": {
      "text/plain": [
       "1"
      ]
     },
     "execution_count": 127,
     "metadata": {},
     "output_type": "execute_result"
    }
   ],
   "source": [
    "solution(7, 20)"
   ]
  },
  {
   "cell_type": "code",
   "execution_count": 129,
   "id": "0082806f-b193-443b-9cb0-20f765f40d2b",
   "metadata": {},
   "outputs": [
    {
     "data": {
      "text/plain": [
       "1"
      ]
     },
     "execution_count": 129,
     "metadata": {},
     "output_type": "execute_result"
    }
   ],
   "source": [
    "solution(11,22)"
   ]
  },
  {
   "cell_type": "code",
   "execution_count": 131,
   "id": "84438d98-7e73-4642-ab6e-4f93bd85b4e6",
   "metadata": {},
   "outputs": [
    {
     "data": {
      "text/plain": [
       "2"
      ]
     },
     "execution_count": 131,
     "metadata": {},
     "output_type": "execute_result"
    }
   ],
   "source": [
    "solution(12,21)"
   ]
  }
 ],
 "metadata": {
  "kernelspec": {
   "display_name": "Python 3 (ipykernel)",
   "language": "python",
   "name": "python3"
  },
  "language_info": {
   "codemirror_mode": {
    "name": "ipython",
    "version": 3
   },
   "file_extension": ".py",
   "mimetype": "text/x-python",
   "name": "python",
   "nbconvert_exporter": "python",
   "pygments_lexer": "ipython3",
   "version": "3.12.4"
  }
 },
 "nbformat": 4,
 "nbformat_minor": 5
}
