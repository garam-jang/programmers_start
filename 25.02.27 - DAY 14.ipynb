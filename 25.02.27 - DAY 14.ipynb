{
 "cells": [
  {
   "cell_type": "markdown",
   "id": "d7139a69-d9cb-4e18-9474-f1ba72dd75f2",
   "metadata": {},
   "source": [
    "## DAY 14"
   ]
  },
  {
   "cell_type": "markdown",
   "id": "7320e67d-a76b-41b1-90b9-6611d0db9feb",
   "metadata": {},
   "source": [
    "#### 1. 가까운 수"
   ]
  },
  {
   "cell_type": "markdown",
   "id": "c98aaa27-0cb4-4fd1-bfef-6f5ba84f4eb3",
   "metadata": {},
   "source": [
    "- 문제 설명: 정수 배열 array와 정수 n이 매개변수로 주어질 때, array에 들어있는 정수 중 n과 가장 가까운 수를 return 하도록 solution 함수를 완성해주세요."
   ]
  },
  {
   "cell_type": "code",
   "execution_count": 65,
   "id": "c56a4366-6dff-48a9-b1cd-a7a64812caa5",
   "metadata": {},
   "outputs": [],
   "source": [
    "def solution(array, n):\n",
    "    dict = {}\n",
    "    for i in array:\n",
    "        dict[i] = abs(i-n)\n",
    "    sorted_dict = sorted(dict.items(), key = lambda x: (x[1], x[0]))\n",
    "\n",
    "    return sorted_dict[0][0]"
   ]
  },
  {
   "cell_type": "code",
   "execution_count": 67,
   "id": "950d67cf-e3a9-4de8-84f2-5baffbc3cb1f",
   "metadata": {
    "scrolled": true
   },
   "outputs": [
    {
     "data": {
      "text/plain": [
       "28"
      ]
     },
     "execution_count": 67,
     "metadata": {},
     "output_type": "execute_result"
    }
   ],
   "source": [
    "solution([3, 10, 28], 20)"
   ]
  },
  {
   "cell_type": "code",
   "execution_count": 69,
   "id": "fd5d25d9-359e-4a64-96ec-9b4f57467bed",
   "metadata": {},
   "outputs": [
    {
     "data": {
      "text/plain": [
       "12"
      ]
     },
     "execution_count": 69,
     "metadata": {},
     "output_type": "execute_result"
    }
   ],
   "source": [
    "solution([10, 11, 12], 13)"
   ]
  },
  {
   "cell_type": "markdown",
   "id": "2ee5fed6-12a0-4b78-8844-c40faeaf72b1",
   "metadata": {},
   "source": [
    "#### 2. 369 게임"
   ]
  },
  {
   "cell_type": "markdown",
   "id": "e9bdf058-4708-47fd-9460-35176b427d3c",
   "metadata": {},
   "source": [
    "- 문제 설명: 머쓱이는 친구들과 369게임을 하고 있습니다. 369게임은 1부터 숫자를 하나씩 대며 3, 6, 9가 들어가는 숫자는 숫자 대신 3, 6, 9의 개수만큼 박수를 치는 게임입니다. 머쓱이가 말해야하는 숫자 order가 매개변수로 주어질 때, 머쓱이가 쳐야할 박수 횟수를 return 하도록 solution 함수를 완성해보세요."
   ]
  },
  {
   "cell_type": "code",
   "execution_count": 93,
   "id": "075ccdd8-29e0-4dda-8002-af1b9feeccf1",
   "metadata": {},
   "outputs": [],
   "source": [
    "def solution(order):\n",
    "    answer = 0\n",
    "    for i in str(order):\n",
    "        if i in ['3','6','9']:\n",
    "            answer += 1\n",
    "    return answer"
   ]
  },
  {
   "cell_type": "code",
   "execution_count": 95,
   "id": "9d90478b-f760-45b8-8ba1-cdd71c520e89",
   "metadata": {},
   "outputs": [
    {
     "data": {
      "text/plain": [
       "1"
      ]
     },
     "execution_count": 95,
     "metadata": {},
     "output_type": "execute_result"
    }
   ],
   "source": [
    "solution(3)"
   ]
  },
  {
   "cell_type": "code",
   "execution_count": 97,
   "id": "7b3e2fec-fba3-4888-acea-149a4d4f4347",
   "metadata": {},
   "outputs": [
    {
     "data": {
      "text/plain": [
       "2"
      ]
     },
     "execution_count": 97,
     "metadata": {},
     "output_type": "execute_result"
    }
   ],
   "source": [
    "solution(29423)"
   ]
  },
  {
   "cell_type": "markdown",
   "id": "b893c442-005e-47e5-a3f9-5acff99c2922",
   "metadata": {},
   "source": [
    "#### 3. 암호 해독"
   ]
  },
  {
   "cell_type": "markdown",
   "id": "91bf5450-15ea-48d8-b845-6c9fe7ebd33b",
   "metadata": {},
   "source": [
    "- 문제 설명: 군 전략가 머쓱이는 전쟁 중 적군이 다음과 같은 암호 체계를 사용한다는 것을 알아 냈습니다.\n",
    "\n",
    "암호화된 문자열 cipher를 주고받습니다.\n",
    "그 문자열에서 code의 배수 번째 글자만 진짜 암호입니다.\n",
    "\n",
    "문자열 cipher와 정수 code가 매개변수로 주어질 때 해독된 암호 문자열을 retrun 하도록 solution 함수를 완성해주세요."
   ]
  },
  {
   "cell_type": "code",
   "execution_count": 118,
   "id": "1dac35c5-6f45-4df9-a387-fe77a13474d5",
   "metadata": {},
   "outputs": [],
   "source": [
    "def solution(cipher, code):\n",
    "    answer = ''\n",
    "    for i in range(code,len(cipher)+1,code):\n",
    "        answer += cipher[i-1]\n",
    "    return answer"
   ]
  },
  {
   "cell_type": "code",
   "execution_count": 124,
   "id": "dc8db219-4f8c-4a0b-944a-3793d4a7caad",
   "metadata": {},
   "outputs": [],
   "source": [
    "def solution(cipher, code):\n",
    "    return cipher[code-1::code]"
   ]
  },
  {
   "cell_type": "code",
   "execution_count": 126,
   "id": "cb2e8f3f-4c9f-4de9-9e43-c51745274177",
   "metadata": {},
   "outputs": [
    {
     "data": {
      "text/plain": [
       "'attack'"
      ]
     },
     "execution_count": 126,
     "metadata": {},
     "output_type": "execute_result"
    }
   ],
   "source": [
    "solution(\"dfjardstddetckdaccccdegk\"\t, 4)"
   ]
  },
  {
   "cell_type": "code",
   "execution_count": 128,
   "id": "e357d2c8-599b-4359-a11c-7b39fe02d71c",
   "metadata": {},
   "outputs": [
    {
     "data": {
      "text/plain": [
       "'fallback'"
      ]
     },
     "execution_count": 128,
     "metadata": {},
     "output_type": "execute_result"
    }
   ],
   "source": [
    "solution(\"pfqallllabwaoclk\", 2)"
   ]
  },
  {
   "cell_type": "markdown",
   "id": "af3e3344-4c44-489e-a0a9-e6b55c9e1e02",
   "metadata": {},
   "source": [
    "#### 4. 대문자와 소문자"
   ]
  },
  {
   "cell_type": "markdown",
   "id": "869bfa05-a49a-4805-ada6-8225706cbee2",
   "metadata": {},
   "source": [
    "- 문제 설명: 문자열 my_string이 매개변수로 주어질 때, 대문자는 소문자로 소문자는 대문자로 변환한 문자열을 return하도록 solution 함수를 완성해주세요."
   ]
  },
  {
   "cell_type": "code",
   "execution_count": 152,
   "id": "0a578e73-075e-46a1-989a-23f4efb7e238",
   "metadata": {},
   "outputs": [],
   "source": [
    "def solution(my_string):\n",
    "    answer = ''\n",
    "    for i in my_string:\n",
    "        if i.isupper():\n",
    "            answer += i.lower()\n",
    "        else:\n",
    "            answer += i.upper()\n",
    "    return answer"
   ]
  },
  {
   "cell_type": "code",
   "execution_count": 158,
   "id": "1716ea1b-6f2e-4a2b-ba65-a9baf80244fe",
   "metadata": {},
   "outputs": [],
   "source": [
    "def solution(my_string):\n",
    "    return my_string.swapcase()"
   ]
  },
  {
   "cell_type": "code",
   "execution_count": 160,
   "id": "ee892357-a366-4a35-b836-99e80495bfb7",
   "metadata": {},
   "outputs": [
    {
     "data": {
      "text/plain": [
       "'CCCccc'"
      ]
     },
     "execution_count": 160,
     "metadata": {},
     "output_type": "execute_result"
    }
   ],
   "source": [
    "solution(\"cccCCC\")"
   ]
  },
  {
   "cell_type": "code",
   "execution_count": 162,
   "id": "1af1ff63-5fe0-478a-a3cb-ed21e0fc8d9c",
   "metadata": {},
   "outputs": [
    {
     "data": {
      "text/plain": [
       "'ABcDeFGHij'"
      ]
     },
     "execution_count": 162,
     "metadata": {},
     "output_type": "execute_result"
    }
   ],
   "source": [
    "solution(\"abCdEfghIJ\")"
   ]
  }
 ],
 "metadata": {
  "kernelspec": {
   "display_name": "Python 3 (ipykernel)",
   "language": "python",
   "name": "python3"
  },
  "language_info": {
   "codemirror_mode": {
    "name": "ipython",
    "version": 3
   },
   "file_extension": ".py",
   "mimetype": "text/x-python",
   "name": "python",
   "nbconvert_exporter": "python",
   "pygments_lexer": "ipython3",
   "version": "3.12.4"
  }
 },
 "nbformat": 4,
 "nbformat_minor": 5
}
