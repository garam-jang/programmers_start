{
 "cells": [
  {
   "cell_type": "markdown",
   "id": "d7139a69-d9cb-4e18-9474-f1ba72dd75f2",
   "metadata": {},
   "source": [
    "## DAY 13"
   ]
  },
  {
   "cell_type": "markdown",
   "id": "d8120de9-e2bd-4787-ab83-df665ea28e18",
   "metadata": {},
   "source": [
    "#### 1. 컨트롤 제트"
   ]
  },
  {
   "cell_type": "markdown",
   "id": "c98aaa27-0cb4-4fd1-bfef-6f5ba84f4eb3",
   "metadata": {},
   "source": [
    "- 문제 설명: 숫자와 \"Z\"가 공백으로 구분되어 담긴 문자열이 주어집니다. 문자열에 있는 숫자를 차례대로 더하려고 합니다. 이 때 \"Z\"가 나오면 바로 전에 더했던 숫자를 뺀다는 뜻입니다. 숫자와 \"Z\"로 이루어진 문자열 s가 주어질 때, 머쓱이가 구한 값을 return 하도록 solution 함수를 완성해보세요."
   ]
  },
  {
   "cell_type": "code",
   "execution_count": 34,
   "id": "c56a4366-6dff-48a9-b1cd-a7a64812caa5",
   "metadata": {},
   "outputs": [],
   "source": [
    "def solution(s):\n",
    "    answer = 0\n",
    "    previous_num = 0\n",
    "    for i in s.split():\n",
    "        if i == \"Z\":\n",
    "            answer -= previous_num\n",
    "        else:\n",
    "            answer += int(i)\n",
    "            previous_num = int(i)\n",
    "    return answer"
   ]
  },
  {
   "cell_type": "code",
   "execution_count": 46,
   "id": "77805f4e-7774-4998-8502-6fd01fe2cdcd",
   "metadata": {},
   "outputs": [],
   "source": [
    "def solution(s):\n",
    "    answer = []\n",
    "    for i in s.split():\n",
    "        if i != \"Z\":\n",
    "            answer.append(int(i))\n",
    "        else:\n",
    "            if answer:\n",
    "                answer.pop()\n",
    "    return sum(answer)"
   ]
  },
  {
   "cell_type": "code",
   "execution_count": 48,
   "id": "950d67cf-e3a9-4de8-84f2-5baffbc3cb1f",
   "metadata": {},
   "outputs": [
    {
     "data": {
      "text/plain": [
       "4"
      ]
     },
     "execution_count": 48,
     "metadata": {},
     "output_type": "execute_result"
    }
   ],
   "source": [
    "solution(\"1 2 Z 3\")"
   ]
  },
  {
   "cell_type": "code",
   "execution_count": 50,
   "id": "605868d0-04ca-4e90-b5d2-ee2aaf1029b4",
   "metadata": {},
   "outputs": [
    {
     "data": {
      "text/plain": [
       "100"
      ]
     },
     "execution_count": 50,
     "metadata": {},
     "output_type": "execute_result"
    }
   ],
   "source": [
    "solution(\"10 20 30 40\")"
   ]
  },
  {
   "cell_type": "code",
   "execution_count": 52,
   "id": "2c423406-14d5-460b-a943-6cffb9cc9496",
   "metadata": {},
   "outputs": [
    {
     "data": {
      "text/plain": [
       "1"
      ]
     },
     "execution_count": 52,
     "metadata": {},
     "output_type": "execute_result"
    }
   ],
   "source": [
    "solution(\"10 Z 20 Z 1\")"
   ]
  },
  {
   "cell_type": "markdown",
   "id": "2ee5fed6-12a0-4b78-8844-c40faeaf72b1",
   "metadata": {},
   "source": [
    "#### 2. 배열 원소의 길이"
   ]
  },
  {
   "cell_type": "markdown",
   "id": "e9bdf058-4708-47fd-9460-35176b427d3c",
   "metadata": {},
   "source": [
    "- 문제 설명: 문자열 배열 strlist가 매개변수로 주어집니다. strlist 각 원소의 길이를 담은 배열을 return하도록 solution 함수를 완성해주세요.\r\n"
   ]
  },
  {
   "cell_type": "code",
   "execution_count": 56,
   "id": "075ccdd8-29e0-4dda-8002-af1b9feeccf1",
   "metadata": {},
   "outputs": [],
   "source": [
    "def solution(strlist):\n",
    "    return [len(i) for i in strlist]"
   ]
  },
  {
   "cell_type": "code",
   "execution_count": 58,
   "id": "9d90478b-f760-45b8-8ba1-cdd71c520e89",
   "metadata": {},
   "outputs": [
    {
     "data": {
      "text/plain": [
       "[2, 3, 3, 6]"
      ]
     },
     "execution_count": 58,
     "metadata": {},
     "output_type": "execute_result"
    }
   ],
   "source": [
    "solution([\"We\", \"are\", \"the\", \"world!\"])"
   ]
  },
  {
   "cell_type": "code",
   "execution_count": 60,
   "id": "0d60bbc3-e55b-4fc1-b61e-1a383411508b",
   "metadata": {},
   "outputs": [
    {
     "data": {
      "text/plain": [
       "[1, 4, 12]"
      ]
     },
     "execution_count": 60,
     "metadata": {},
     "output_type": "execute_result"
    }
   ],
   "source": [
    "solution([\"I\", \"Love\", \"Programmers.\"])"
   ]
  },
  {
   "cell_type": "markdown",
   "id": "b893c442-005e-47e5-a3f9-5acff99c2922",
   "metadata": {},
   "source": [
    "#### 3. 중복된 문자 제거"
   ]
  },
  {
   "cell_type": "markdown",
   "id": "79e1e4a4-2d86-43a9-82f5-e25ccfa6a964",
   "metadata": {},
   "source": [
    "- 문제 설명: 문자열 my_string이 매개변수로 주어집니다. my_string에서 중복된 문자를 제거하고 하나의 문자만 남긴 문자열을 return하도록 solution 함수를 완성해주세요.\r\n"
   ]
  },
  {
   "cell_type": "code",
   "execution_count": 84,
   "id": "1dac35c5-6f45-4df9-a387-fe77a13474d5",
   "metadata": {},
   "outputs": [],
   "source": [
    "def solution(my_string):\n",
    "    answer = []\n",
    "    for i in my_string:\n",
    "        if i in answer:\n",
    "            continue\n",
    "        else:\n",
    "            answer.append(i)\n",
    "    return ''.join(answer)"
   ]
  },
  {
   "cell_type": "code",
   "execution_count": 90,
   "id": "4adc999c-13e2-473c-bf19-8b8879aeeaa5",
   "metadata": {},
   "outputs": [],
   "source": [
    "def solution(my_string):\n",
    "    answer = ''\n",
    "    for i in my_string:\n",
    "        if i not in answer:\n",
    "            answer += i\n",
    "    return answer"
   ]
  },
  {
   "cell_type": "code",
   "execution_count": 92,
   "id": "cb2e8f3f-4c9f-4de9-9e43-c51745274177",
   "metadata": {},
   "outputs": [
    {
     "data": {
      "text/plain": [
       "'peol'"
      ]
     },
     "execution_count": 92,
     "metadata": {},
     "output_type": "execute_result"
    }
   ],
   "source": [
    "solution(\"people\")"
   ]
  },
  {
   "cell_type": "code",
   "execution_count": 94,
   "id": "9a9aef86-f5f3-40a8-ba1b-0280aaac4a14",
   "metadata": {},
   "outputs": [
    {
     "data": {
      "text/plain": [
       "'We arthwold'"
      ]
     },
     "execution_count": 94,
     "metadata": {},
     "output_type": "execute_result"
    }
   ],
   "source": [
    "solution(\"We are the world\")"
   ]
  },
  {
   "cell_type": "markdown",
   "id": "af3e3344-4c44-489e-a0a9-e6b55c9e1e02",
   "metadata": {},
   "source": [
    "#### 4. 삼각형의 완성조건(1)"
   ]
  },
  {
   "cell_type": "markdown",
   "id": "db64fa08-be77-4089-9683-f22b30aa65b8",
   "metadata": {},
   "source": [
    "- 문제 설명: 선분 세 개로 삼각형을 만들기 위해서는 다음과 같은 조건을 만족해야 합니다.\r\n",
    "\r\n",
    "가장 긴 변의 길이는 다른 두 변의 길이의 합보다 작아야 합니다.\r\n",
    "삼각형의 세 변의 길이가 담긴 배열 sides이 매개변수로 주어집니다. 세 변으로 삼각형을 만들 수 있다면 1, 만들 수 없다면 2를 return하도록 solution 함수를 완성해주세요."
   ]
  },
  {
   "cell_type": "code",
   "execution_count": 100,
   "id": "0a578e73-075e-46a1-989a-23f4efb7e238",
   "metadata": {},
   "outputs": [],
   "source": [
    "def solution(sides):\n",
    "    a,b,c = sorted(sides)\n",
    "    if c < a+b:\n",
    "        return 1\n",
    "    else:\n",
    "        return 2"
   ]
  },
  {
   "cell_type": "code",
   "execution_count": 108,
   "id": "70a1b4ee-c49e-4064-8f9f-5338b304ebe5",
   "metadata": {},
   "outputs": [],
   "source": [
    "def solution(sides):\n",
    "    return 1 if max(sides) < (sum(sides) - max(sides)) else 2"
   ]
  },
  {
   "cell_type": "code",
   "execution_count": 110,
   "id": "ee892357-a366-4a35-b836-99e80495bfb7",
   "metadata": {},
   "outputs": [
    {
     "data": {
      "text/plain": [
       "2"
      ]
     },
     "execution_count": 110,
     "metadata": {},
     "output_type": "execute_result"
    }
   ],
   "source": [
    "solution([1, 2, 3])"
   ]
  },
  {
   "cell_type": "code",
   "execution_count": 112,
   "id": "08f765bc-444a-4c49-9d89-6122be3a90a1",
   "metadata": {},
   "outputs": [
    {
     "data": {
      "text/plain": [
       "2"
      ]
     },
     "execution_count": 112,
     "metadata": {},
     "output_type": "execute_result"
    }
   ],
   "source": [
    "solution([3, 6, 2])"
   ]
  },
  {
   "cell_type": "code",
   "execution_count": 114,
   "id": "9a83a200-996a-4ea7-906c-2ee4421447c3",
   "metadata": {},
   "outputs": [
    {
     "data": {
      "text/plain": [
       "1"
      ]
     },
     "execution_count": 114,
     "metadata": {},
     "output_type": "execute_result"
    }
   ],
   "source": [
    "solution([199, 72, 222])"
   ]
  }
 ],
 "metadata": {
  "kernelspec": {
   "display_name": "Python 3 (ipykernel)",
   "language": "python",
   "name": "python3"
  },
  "language_info": {
   "codemirror_mode": {
    "name": "ipython",
    "version": 3
   },
   "file_extension": ".py",
   "mimetype": "text/x-python",
   "name": "python",
   "nbconvert_exporter": "python",
   "pygments_lexer": "ipython3",
   "version": "3.12.4"
  }
 },
 "nbformat": 4,
 "nbformat_minor": 5
}
