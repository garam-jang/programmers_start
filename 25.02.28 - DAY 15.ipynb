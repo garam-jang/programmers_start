{
 "cells": [
  {
   "cell_type": "markdown",
   "id": "d7139a69-d9cb-4e18-9474-f1ba72dd75f2",
   "metadata": {},
   "source": [
    "## DAY 15"
   ]
  },
  {
   "cell_type": "markdown",
   "id": "d8120de9-e2bd-4787-ab83-df665ea28e18",
   "metadata": {},
   "source": [
    "#### 1. 영어가 싫어요"
   ]
  },
  {
   "cell_type": "markdown",
   "id": "c98aaa27-0cb4-4fd1-bfef-6f5ba84f4eb3",
   "metadata": {},
   "source": [
    "- 문제 설명: 영어가 싫은 머쓱이는 영어로 표기되어있는 숫자를 수로 바꾸려고 합니다. 문자열 numbers가 매개변수로 주어질 때, numbers를 정수로 바꿔 return 하도록 solution 함수를 완성해 주세요."
   ]
  },
  {
   "cell_type": "code",
   "execution_count": 128,
   "id": "c56a4366-6dff-48a9-b1cd-a7a64812caa5",
   "metadata": {},
   "outputs": [],
   "source": [
    "def solution(numbers):\n",
    "    num_dict = {'zero':0, 'one':1, 'two':2, 'three':3, 'four':4, 'five':5, 'six':6,\n",
    "                'seven':7, 'eight':8,'nine':9}\n",
    "    start = 0\n",
    "    end = 0\n",
    "    answer = []\n",
    "    while end != len(numbers)+1:\n",
    "        if numbers[start:end] in num_dict.keys():\n",
    "            answer.append(str(num_dict[numbers[start:end]]))\n",
    "            start = end\n",
    "        else:\n",
    "            end += 1\n",
    "    return int(''.join(answer))               "
   ]
  },
  {
   "cell_type": "code",
   "execution_count": 150,
   "id": "950d67cf-e3a9-4de8-84f2-5baffbc3cb1f",
   "metadata": {},
   "outputs": [
    {
     "data": {
      "text/plain": [
       "123456789"
      ]
     },
     "execution_count": 150,
     "metadata": {},
     "output_type": "execute_result"
    }
   ],
   "source": [
    "solution(\"onetwothreefourfivesixseveneightnine\")"
   ]
  },
  {
   "cell_type": "code",
   "execution_count": 152,
   "id": "0a806922-54ab-4c6d-a4fc-c44a00556b8a",
   "metadata": {},
   "outputs": [
    {
     "data": {
      "text/plain": [
       "14067"
      ]
     },
     "execution_count": 152,
     "metadata": {},
     "output_type": "execute_result"
    }
   ],
   "source": [
    "solution(\"onefourzerosixseven\")"
   ]
  },
  {
   "cell_type": "code",
   "execution_count": 134,
   "id": "f1a53f99-3c90-4be4-9449-8402490d608a",
   "metadata": {},
   "outputs": [],
   "source": [
    "# 다른 사람 풀이 1\n",
    "def solution(numbers):\n",
    "    for num, eng in enumerate(['zero', 'one', 'two', 'three', 'four','five','six', 'seven', 'eight', 'nine']):\n",
    "        numbers = numbers.replace(eng, str(num))\n",
    "    return int(numbers)"
   ]
  },
  {
   "cell_type": "code",
   "execution_count": 148,
   "id": "7f480072-44f3-46c8-9fa1-646f18f26471",
   "metadata": {},
   "outputs": [],
   "source": [
    "# 다른 사람 풀이 2\n",
    "def solution(numbers):\n",
    "    num_dict = {'zero':0, 'one':1, 'two':2, 'three':3, 'four':4, 'five':5, 'six':6,\n",
    "                'seven':7, 'eight':8,'nine':9}\n",
    "    for i in num_dict.keys():\n",
    "        numbers = numbers.replace(i, str(num_dict[i]))\n",
    "    return int(numbers)"
   ]
  },
  {
   "cell_type": "markdown",
   "id": "2ee5fed6-12a0-4b78-8844-c40faeaf72b1",
   "metadata": {},
   "source": [
    "#### 2. 인덱스 바꾸기"
   ]
  },
  {
   "cell_type": "markdown",
   "id": "e9bdf058-4708-47fd-9460-35176b427d3c",
   "metadata": {},
   "source": [
    "- 문제 설명: 문자열 my_string과 정수 num1, num2가 매개변수로 주어질 때, my_string에서 인덱스 num1과 인덱스 num2에 해당하는 문자를 바꾼 문자열을 return 하도록 solution 함수를 완성해보세요.\r\n"
   ]
  },
  {
   "cell_type": "code",
   "execution_count": 16,
   "id": "075ccdd8-29e0-4dda-8002-af1b9feeccf1",
   "metadata": {},
   "outputs": [],
   "source": [
    "def solution(my_string, num1, num2):\n",
    "    answer = list(my_string)\n",
    "    answer[num1] = my_string[num2]\n",
    "    answer[num2] = my_string[num1]\n",
    "    # answer[num1], answer[num2] = answer[num2], answer[num1]\n",
    "    return ''.join(answer)"
   ]
  },
  {
   "cell_type": "code",
   "execution_count": 18,
   "id": "9d90478b-f760-45b8-8ba1-cdd71c520e89",
   "metadata": {},
   "outputs": [
    {
     "data": {
      "text/plain": [
       "'hlelo'"
      ]
     },
     "execution_count": 18,
     "metadata": {},
     "output_type": "execute_result"
    }
   ],
   "source": [
    "solution(\"hello\", 1, 2)"
   ]
  },
  {
   "cell_type": "code",
   "execution_count": 20,
   "id": "8e375691-8738-49c7-950e-460e92cd4f7c",
   "metadata": {},
   "outputs": [
    {
     "data": {
      "text/plain": [
       "'I l veoyou'"
      ]
     },
     "execution_count": 20,
     "metadata": {},
     "output_type": "execute_result"
    }
   ],
   "source": [
    "solution(\"I love you\", 3, 6)"
   ]
  },
  {
   "cell_type": "markdown",
   "id": "b893c442-005e-47e5-a3f9-5acff99c2922",
   "metadata": {},
   "source": [
    "#### 3. 한 번만 등장한 문자"
   ]
  },
  {
   "cell_type": "markdown",
   "id": "79e1e4a4-2d86-43a9-82f5-e25ccfa6a964",
   "metadata": {},
   "source": [
    "- 문제 설명: 문자열 s가 매개변수로 주어집니다. s에서 한 번만 등장하는 문자를 사전 순으로 정렬한 문자열을 return 하도록 solution 함수를 완성해보세요. 한 번만 등장하는 문자가 없을 경우 빈 문자열을 return 합니다.\r\n"
   ]
  },
  {
   "cell_type": "code",
   "execution_count": 48,
   "id": "1dac35c5-6f45-4df9-a387-fe77a13474d5",
   "metadata": {},
   "outputs": [],
   "source": [
    "def solution(s):\n",
    "    dict = {}\n",
    "    answer = []\n",
    "    for i in s:\n",
    "        dict[i] = dict.get(i,0) +1\n",
    "\n",
    "    for key, value in dict.items():\n",
    "        if value == 1:\n",
    "           answer.append(key)\n",
    "\n",
    "    return ''.join(sorted(answer))"
   ]
  },
  {
   "cell_type": "code",
   "execution_count": 60,
   "id": "59b14fe6-3446-4dac-87fa-c425c4347ecb",
   "metadata": {},
   "outputs": [],
   "source": [
    "def solution(s):\n",
    "    answer = ''.join(sorted([i for i in s if s.count(i) == 1]))\n",
    "    return answer"
   ]
  },
  {
   "cell_type": "code",
   "execution_count": 62,
   "id": "cb2e8f3f-4c9f-4de9-9e43-c51745274177",
   "metadata": {},
   "outputs": [
    {
     "data": {
      "text/plain": [
       "'d'"
      ]
     },
     "execution_count": 62,
     "metadata": {},
     "output_type": "execute_result"
    }
   ],
   "source": [
    "solution(\"abcabcadc\")"
   ]
  },
  {
   "cell_type": "code",
   "execution_count": 64,
   "id": "2ce85718-6533-4662-86db-efd52f08d605",
   "metadata": {},
   "outputs": [
    {
     "data": {
      "text/plain": [
       "'abcd'"
      ]
     },
     "execution_count": 64,
     "metadata": {},
     "output_type": "execute_result"
    }
   ],
   "source": [
    "solution(\"abdc\")"
   ]
  },
  {
   "cell_type": "code",
   "execution_count": 66,
   "id": "43bcf538-5086-4080-89a0-471d8922828d",
   "metadata": {},
   "outputs": [
    {
     "data": {
      "text/plain": [
       "'eho'"
      ]
     },
     "execution_count": 66,
     "metadata": {},
     "output_type": "execute_result"
    }
   ],
   "source": [
    "solution(\"hello\")"
   ]
  },
  {
   "cell_type": "markdown",
   "id": "af3e3344-4c44-489e-a0a9-e6b55c9e1e02",
   "metadata": {},
   "source": [
    "#### 4. 약수 구하기"
   ]
  },
  {
   "cell_type": "markdown",
   "id": "db64fa08-be77-4089-9683-f22b30aa65b8",
   "metadata": {},
   "source": [
    "- 문제 설명: 정수 n이 매개변수로 주어질 때, n의 약수를 오름차순으로 담은 배열을 return하도록 solution 함수를 완성해주세요."
   ]
  },
  {
   "cell_type": "code",
   "execution_count": 70,
   "id": "0a578e73-075e-46a1-989a-23f4efb7e238",
   "metadata": {},
   "outputs": [],
   "source": [
    "def solution(n):\n",
    "    answer = []\n",
    "    for i in range(1, n+1):\n",
    "        if n % i == 0:\n",
    "            answer.append(i)\n",
    "    return answer"
   ]
  },
  {
   "cell_type": "code",
   "execution_count": 80,
   "id": "f70781b8-3ece-46e8-a077-8d0f97cabc87",
   "metadata": {},
   "outputs": [],
   "source": [
    "def solution(n):\n",
    "    return [i for i in range(1, n+1) if n % i == 0]"
   ]
  },
  {
   "cell_type": "code",
   "execution_count": 82,
   "id": "ee892357-a366-4a35-b836-99e80495bfb7",
   "metadata": {},
   "outputs": [
    {
     "data": {
      "text/plain": [
       "[1, 2, 3, 4, 6, 8, 12, 24]"
      ]
     },
     "execution_count": 82,
     "metadata": {},
     "output_type": "execute_result"
    }
   ],
   "source": [
    "solution(24)"
   ]
  },
  {
   "cell_type": "code",
   "execution_count": 84,
   "id": "ff35a106-cf84-4451-a498-707c46b7a7e0",
   "metadata": {},
   "outputs": [
    {
     "data": {
      "text/plain": [
       "[1, 29]"
      ]
     },
     "execution_count": 84,
     "metadata": {},
     "output_type": "execute_result"
    }
   ],
   "source": [
    "solution(29)"
   ]
  }
 ],
 "metadata": {
  "kernelspec": {
   "display_name": "Python 3 (ipykernel)",
   "language": "python",
   "name": "python3"
  },
  "language_info": {
   "codemirror_mode": {
    "name": "ipython",
    "version": 3
   },
   "file_extension": ".py",
   "mimetype": "text/x-python",
   "name": "python",
   "nbconvert_exporter": "python",
   "pygments_lexer": "ipython3",
   "version": "3.12.4"
  }
 },
 "nbformat": 4,
 "nbformat_minor": 5
}
